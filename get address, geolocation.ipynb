{
 "cells": [
  {
   "cell_type": "code",
   "execution_count": 1,
   "metadata": {},
   "outputs": [
    {
     "ename": "FileNotFoundError",
     "evalue": "[Errno 2] No such file or directory: '25_sample_csv.csv'",
     "output_type": "error",
     "traceback": [
      "\u001b[1;31m---------------------------------------------------------------------------\u001b[0m",
      "\u001b[1;31mFileNotFoundError\u001b[0m                         Traceback (most recent call last)",
      "\u001b[1;32m<ipython-input-1-a5d95ef68506>\u001b[0m in \u001b[0;36m<module>\u001b[1;34m\u001b[0m\n\u001b[0;32m     57\u001b[0m \u001b[1;32mif\u001b[0m \u001b[0m__name__\u001b[0m \u001b[1;33m==\u001b[0m \u001b[1;34m'__main__'\u001b[0m\u001b[1;33m:\u001b[0m\u001b[1;33m\u001b[0m\u001b[1;33m\u001b[0m\u001b[0m\n\u001b[0;32m     58\u001b[0m     \u001b[0mcsv_file\u001b[0m \u001b[1;33m=\u001b[0m \u001b[1;34m'25_sample_csv.csv'\u001b[0m\u001b[1;33m\u001b[0m\u001b[1;33m\u001b[0m\u001b[0m\n\u001b[1;32m---> 59\u001b[1;33m     \u001b[0mall_the_ip_address\u001b[0m \u001b[1;33m=\u001b[0m \u001b[0mget_addresses\u001b[0m\u001b[1;33m(\u001b[0m\u001b[0mcsv_file\u001b[0m\u001b[1;33m)\u001b[0m\u001b[1;33m\u001b[0m\u001b[1;33m\u001b[0m\u001b[0m\n\u001b[0m\u001b[0;32m     60\u001b[0m     \u001b[0mupdated_address_list\u001b[0m \u001b[1;33m=\u001b[0m \u001b[0mget_geolocation\u001b[0m\u001b[1;33m(\u001b[0m\u001b[0mall_the_ip_address\u001b[0m\u001b[1;33m)\u001b[0m\u001b[1;33m\u001b[0m\u001b[1;33m\u001b[0m\u001b[0m\n\u001b[0;32m     61\u001b[0m     \u001b[0mcreate_csv\u001b[0m\u001b[1;33m(\u001b[0m\u001b[0mupdated_address_list\u001b[0m\u001b[1;33m)\u001b[0m\u001b[1;33m\u001b[0m\u001b[1;33m\u001b[0m\u001b[0m\n",
      "\u001b[1;32m<ipython-input-1-a5d95ef68506>\u001b[0m in \u001b[0;36mget_addresses\u001b[1;34m(filename)\u001b[0m\n\u001b[0;32m     10\u001b[0m     \"\"\"\n\u001b[0;32m     11\u001b[0m     \u001b[0mall_addresses\u001b[0m \u001b[1;33m=\u001b[0m \u001b[1;33m[\u001b[0m\u001b[1;33m]\u001b[0m\u001b[1;33m\u001b[0m\u001b[1;33m\u001b[0m\u001b[0m\n\u001b[1;32m---> 12\u001b[1;33m     \u001b[1;32mwith\u001b[0m \u001b[0mopen\u001b[0m\u001b[1;33m(\u001b[0m\u001b[0mfilename\u001b[0m\u001b[1;33m,\u001b[0m \u001b[1;34m'rt'\u001b[0m\u001b[1;33m)\u001b[0m \u001b[1;32mas\u001b[0m \u001b[0mf\u001b[0m\u001b[1;33m:\u001b[0m\u001b[1;33m\u001b[0m\u001b[1;33m\u001b[0m\u001b[0m\n\u001b[0m\u001b[0;32m     13\u001b[0m         \u001b[0mreader\u001b[0m \u001b[1;33m=\u001b[0m \u001b[0mcsv\u001b[0m\u001b[1;33m.\u001b[0m\u001b[0mreader\u001b[0m\u001b[1;33m(\u001b[0m\u001b[0mf\u001b[0m\u001b[1;33m)\u001b[0m\u001b[1;33m\u001b[0m\u001b[1;33m\u001b[0m\u001b[0m\n\u001b[0;32m     14\u001b[0m         \u001b[1;32mfor\u001b[0m \u001b[0mrow\u001b[0m \u001b[1;32min\u001b[0m \u001b[0mreader\u001b[0m\u001b[1;33m:\u001b[0m\u001b[1;33m\u001b[0m\u001b[1;33m\u001b[0m\u001b[0m\n",
      "\u001b[1;31mFileNotFoundError\u001b[0m: [Errno 2] No such file or directory: '25_sample_csv.csv'"
     ]
    }
   ],
   "source": [
    "import csv\n",
    "import requests\n",
    "\n",
    "\n",
    "def get_addresses(filename):\n",
    "    \"\"\"\n",
    "    Given a CSV file, this function returns a list of lists\n",
    "    where each element (list) in the outer list contains the\n",
    "    row info from the csv file.\n",
    "    \"\"\"\n",
    "    all_addresses = []\n",
    "    with open(filename, 'rt') as f:\n",
    "        reader = csv.reader(f)\n",
    "        for row in reader:\n",
    "            all_addresses.append(row)\n",
    "    return all_addresses\n",
    "\n",
    "\n",
    "def get_geolocation(all_the_ip_address):\n",
    "    \"\"\"\n",
    "    Given a list of lists from `get_addresses()`, this function\n",
    "    returns an updated lists of lists containing the geolocation.\n",
    "    \"\"\"\n",
    "    print(\"Getting geo information...\")\n",
    "    updated_addresses = []\n",
    "    counter = 1\n",
    "    # update header\n",
    "    header_row = all_the_ip_address.pop(0)\n",
    "    header_row.extend(['Country', 'City'])\n",
    "    # get geolocation\n",
    "    for line in all_the_ip_address:\n",
    "        print(\"Grabbing geo info for row # {0}\".format(counter))\n",
    "        r = requests.get('https://freegeoip.net/json/{0}'.format(line[0]))\n",
    "        line.extend([str(r.json()['country_name']), str(r.json()['city'])])\n",
    "        updated_addresses.append(line)\n",
    "        counter += 1\n",
    "    updated_addresses.insert(0, header_row)\n",
    "    return updated_addresses\n",
    "\n",
    "\n",
    "def create_csv(updated_address_list):\n",
    "    \"\"\"\n",
    "    Given the updated lists of lists from `get_geolocation()`, this function\n",
    "    creates a new CSV.\n",
    "    \"\"\"\n",
    "    import sys\n",
    "    if sys.version_info >= (3, 0, 0):\n",
    "        f = open('output.csv', 'w', newline='')\n",
    "    else:\n",
    "        f = open('output.csv', 'wb')\n",
    "    with f:\n",
    "        writer = csv.writer(f)\n",
    "        writer.writerows(updated_address_list)\n",
    "    print(\"All done!\")\n",
    "\n",
    "\n",
    "if __name__ == '__main__':\n",
    "    csv_file = '25_sample_csv.csv'\n",
    "    all_the_ip_address = get_addresses(csv_file)\n",
    "    updated_address_list = get_geolocation(all_the_ip_address)\n",
    "    create_csv(updated_address_list)"
   ]
  },
  {
   "cell_type": "code",
   "execution_count": null,
   "metadata": {},
   "outputs": [],
   "source": []
  }
 ],
 "metadata": {
  "kernelspec": {
   "display_name": "Python 3",
   "language": "python",
   "name": "python3"
  },
  "language_info": {
   "codemirror_mode": {
    "name": "ipython",
    "version": 3
   },
   "file_extension": ".py",
   "mimetype": "text/x-python",
   "name": "python",
   "nbconvert_exporter": "python",
   "pygments_lexer": "ipython3",
   "version": "3.7.4"
  }
 },
 "nbformat": 4,
 "nbformat_minor": 4
}
